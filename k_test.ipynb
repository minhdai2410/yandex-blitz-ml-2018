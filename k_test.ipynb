{
 "cells": [
  {
   "cell_type": "markdown",
   "metadata": {},
   "source": [
    "Here I wanted to test and compare error rates for 2 approaches to calculate unique queries for different number of total/unique queries and hash size."
   ]
  },
  {
   "cell_type": "code",
   "execution_count": 26,
   "metadata": {},
   "outputs": [],
   "source": [
    "import numpy as np"
   ]
  },
  {
   "cell_type": "code",
   "execution_count": 111,
   "metadata": {},
   "outputs": [],
   "source": [
    "total_queries = 500000\n",
    "unique_queries = 100000\n",
    "hash_size = 1000000\n",
    "queries = np.random.choice([str(i) for i in range(unique_queries)], total_queries)"
   ]
  },
  {
   "cell_type": "markdown",
   "metadata": {},
   "source": [
    "First approach is use a single byte to store if a remainder is present. It is not very memory efficient, but a bit easier to implement. Even with this approach, if hash table size is 1,000,000 we get error rate just a little bit more than the threshold of 5%."
   ]
  },
  {
   "cell_type": "code",
   "execution_count": 112,
   "metadata": {},
   "outputs": [
    {
     "name": "stdout",
     "output_type": "stream",
     "text": [
      "error 5.42%\n"
     ]
    }
   ],
   "source": [
    "hashes = bytearray(hash_size)\n",
    "for i in range(total_queries):\n",
    "    hashes[hash(queries[i]) % hash_size] = 1\n",
    "\n",
    "print(f'error {(unique_queries - hashes.count(1)) / unique_queries * 100:.2f}%')"
   ]
  },
  {
   "cell_type": "markdown",
   "metadata": {},
   "source": [
    "The second approach is to use each of 8 bits of a single array element. It is 8 times more memory efficient."
   ]
  },
  {
   "cell_type": "code",
   "execution_count": 113,
   "metadata": {},
   "outputs": [
    {
     "name": "stdout",
     "output_type": "stream",
     "text": [
      "error 1.23%\n"
     ]
    }
   ],
   "source": [
    "hashes = bytearray(hash_size)\n",
    "for i in range(total_queries):\n",
    "    h = hash(queries[i]) % (hash_size * 8)\n",
    "    hashes[h // 8] |= (1 << h % 8)\n",
    "\n",
    "cnt = 0\n",
    "for h in hashes:\n",
    "    while h > 0:\n",
    "        if h & 1:\n",
    "            cnt += 1\n",
    "        h >>= 1\n",
    "        \n",
    "print(f'error {(unique_queries - cnt) / unique_queries * 100:.2f}%')"
   ]
  },
  {
   "cell_type": "markdown",
   "metadata": {},
   "source": [
    "Thus we get much lower error rate using the same amount of memory. Even 200,000 bytes will be enough to get error rate below 5%."
   ]
  }
 ],
 "metadata": {
  "kernelspec": {
   "display_name": "Python 3",
   "language": "python",
   "name": "python3"
  },
  "language_info": {
   "codemirror_mode": {
    "name": "ipython",
    "version": 3
   },
   "file_extension": ".py",
   "mimetype": "text/x-python",
   "name": "python",
   "nbconvert_exporter": "python",
   "pygments_lexer": "ipython3",
   "version": "3.6.2"
  }
 },
 "nbformat": 4,
 "nbformat_minor": 2
}
