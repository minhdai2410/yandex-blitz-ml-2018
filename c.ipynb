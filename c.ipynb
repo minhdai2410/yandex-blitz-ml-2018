{
 "cells": [
  {
   "cell_type": "markdown",
   "metadata": {},
   "source": [
    "# C. Freshness detector"
   ]
  },
  {
   "cell_type": "code",
   "execution_count": 1,
   "metadata": {},
   "outputs": [],
   "source": [
    "import pandas as pd\n",
    "import numpy as np\n",
    "\n",
    "from sklearn.feature_extraction.text import TfidfVectorizer\n",
    "from sklearn import metrics\n",
    "from sklearn.pipeline import Pipeline, TransformerMixin, FeatureUnion\n",
    "from sklearn.base import BaseEstimator\n",
    "from lightgbm import LGBMClassifier\n",
    "\n",
    "%matplotlib inline\n",
    "%config InlineBackend.figure_format = 'retina'"
   ]
  },
  {
   "cell_type": "code",
   "execution_count": 2,
   "metadata": {},
   "outputs": [],
   "source": [
    "class ColumnSelector(BaseEstimator, TransformerMixin):\n",
    "    def __init__(self, columns):\n",
    "        self.columns = columns\n",
    "\n",
    "    def fit(self, X, y=None):\n",
    "        return self\n",
    "\n",
    "    def transform(self, X):\n",
    "        return X[self.columns]"
   ]
  },
  {
   "cell_type": "code",
   "execution_count": 3,
   "metadata": {},
   "outputs": [],
   "source": [
    "data_train = pd.read_csv('input/c_train.tsv', sep='\\t')\n",
    "data_test = pd.read_csv('input/c_test.tsv', sep='\\t')\n",
    "data = pd.concat((data_train, data_test))\n",
    "data['train'] = data.fresh_click.notnull()\n",
    "data['timestamp'] = pd.to_datetime(data.timestamp, unit='s') + pd.to_timedelta(3, unit='h')\n",
    "data['day'] = data.timestamp.dt.day\n",
    "data['hour'] = data.timestamp.dt.hour\n",
    "data['minute'] = data.timestamp.dt.minute"
   ]
  },
  {
   "cell_type": "markdown",
   "metadata": {},
   "source": [
    "Let's see what is the percentage of fresh clicks in the whole dataset"
   ]
  },
  {
   "cell_type": "code",
   "execution_count": 4,
   "metadata": {},
   "outputs": [
    {
     "data": {
      "text/plain": [
       "0.072084"
      ]
     },
     "execution_count": 4,
     "metadata": {},
     "output_type": "execute_result"
    }
   ],
   "source": [
    "data_train.fresh_click.mean()"
   ]
  },
  {
   "cell_type": "code",
   "execution_count": 5,
   "metadata": {},
   "outputs": [
    {
     "data": {
      "image/png": "[encoded data removed]",
      "text/plain": [
       "<matplotlib.figure.Figure at 0x100862b00>"
      ]
     },
     "metadata": {
      "image/png": {
       "height": 280,
       "width": 396
      }
     },
     "output_type": "display_data"
    }
   ],
   "source": [
    "data.groupby('train').day.value_counts().unstack(0).plot(kind='bar', title='Distribution of clicks by date');"
   ]
  },
  {
   "cell_type": "markdown",
   "metadata": {},
   "source": [
    "We see that we learn on past clicks and should predict for the next day. So for validation we can train on\n",
    "days **24-28** and validate on **29**\n",
    "\n",
    "First, let's try basic features without considering query text at all"
   ]
  },
  {
   "cell_type": "code",
   "execution_count": 8,
   "metadata": {},
   "outputs": [
    {
     "data": {
      "text/plain": [
       "0.1660215956651229"
      ]
     },
     "execution_count": 8,
     "metadata": {},
     "output_type": "execute_result"
    }
   ],
   "source": [
    "pipeline_without_text = Pipeline([\n",
    "    ('select', ColumnSelector(['requests_per_prev_1_hour', 'requests_per_prev_2_hour', 'requests_per_prev_6_hour', \n",
    "                                     'requests_per_prev_12_hour', 'requests_per_prev_24_hour',\n",
    "                                     'requests_per_prev_72_hour', 'hour', 'minute'])),\n",
    "    ('clf', LGBMClassifier(n_estimators=100, class_weight='balanced'))\n",
    "])\n",
    "\n",
    "pipeline_without_text.fit(data[data.day < 29], data[data.day < 29].fresh_click)\n",
    "predicted = pipeline_without_text.predict(data[data.day == 29])\n",
    "metrics.f1_score(data[data.day == 29].fresh_click, predicted, average='binary')"
   ]
  },
  {
   "cell_type": "markdown",
   "metadata": {},
   "source": [
    "Okay, we got *~0.17* that is below required threshold *0.25*, so probably we should take query text into account as \n",
    "well. Let's build pipeline using **TfidfVectorizer** to extract words usage statistics from queries"
   ]
  },
  {
   "cell_type": "code",
   "execution_count": 10,
   "metadata": {},
   "outputs": [
    {
     "data": {
      "text/plain": [
       "0.28560253052617257"
      ]
     },
     "execution_count": 10,
     "metadata": {},
     "output_type": "execute_result"
    }
   ],
   "source": [
    "pipeline_with_text = Pipeline([\n",
    "    ('features', \n",
    "    FeatureUnion([\n",
    "        ('tfidf', \n",
    "          Pipeline([\n",
    "                ('selector', ColumnSelector('query')),\n",
    "                ('tfidf', TfidfVectorizer(token_pattern=r'\\b\\d+\\b')),\n",
    "            ])),\n",
    "        ('original', ColumnSelector(['requests_per_prev_1_hour', 'requests_per_prev_6_hour', \n",
    "                                     'requests_per_prev_12_hour', 'requests_per_prev_24_hour',\n",
    "                                     'requests_per_prev_72_hour', 'hour', 'minute']))])),\n",
    "    ('clf', LGBMClassifier(n_estimators=100, class_weight='balanced'))\n",
    "])\n",
    "               \n",
    "pipeline_with_text.fit(data[data.day < 29], data[data.day < 29].fresh_click)\n",
    "predicted = pipeline_with_text.predict(data[data.day == 29])\n",
    "metrics.f1_score(data[data.day == 29].fresh_click, predicted)"
   ]
  },
  {
   "cell_type": "markdown",
   "metadata": {},
   "source": [
    "Hurray! We've got F1-score above minimal threshold *0.25*. Now let's submit!"
   ]
  },
  {
   "cell_type": "code",
   "execution_count": 14,
   "metadata": {},
   "outputs": [],
   "source": [
    "np.savetxt('output/c.out', predicted, '%d')"
   ]
  }
 ],
 "metadata": {
  "kernelspec": {
   "display_name": "Python 3",
   "language": "python",
   "name": "python3"
  },
  "language_info": {
   "codemirror_mode": {
    "name": "ipython",
    "version": 3
   },
   "file_extension": ".py",
   "mimetype": "text/x-python",
   "name": "python",
   "nbconvert_exporter": "python",
   "pygments_lexer": "ipython3",
   "version": "3.6.2"
  }
 },
 "nbformat": 4,
 "nbformat_minor": 2
}
