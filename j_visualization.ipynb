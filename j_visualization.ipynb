{
 "cells": [
  {
   "cell_type": "code",
   "execution_count": 188,
   "metadata": {},
   "outputs": [],
   "source": [
    "import numpy as np\n",
    "import matplotlib.pyplot as plt\n",
    "import utils.matplotlib_init\n",
    "\n",
    "from IPython.display import Image\n",
    "from matplotlib.animation import FuncAnimation"
   ]
  },
  {
   "cell_type": "code",
   "execution_count": 194,
   "metadata": {},
   "outputs": [
    {
     "data": {
      "text/html": [
       "<img src=\"assets/j.gif\"/>"
      ],
      "text/plain": [
       "<IPython.core.display.Image object>"
      ]
     },
     "execution_count": 194,
     "metadata": {},
     "output_type": "execute_result"
    }
   ],
   "source": [
    "x = np.array([[8, 5], [10, 7], [7, 10], [7, 9], [8, 8], [12, 4], [15, 2], [16, 3], [13, 3]])\n",
    "y = np.array([1, 1, 1, 1, 1, -1, -1, -1, -1])\n",
    "\n",
    "fig = plt.figure()\n",
    "ax = plt.gca()\n",
    "\n",
    "plt.title('Perceptron finds separating line')\n",
    "plt.xlim(0, 20)\n",
    "plt.ylim(0, 11)\n",
    "ax.set_xticks(np.arange(0, 20))\n",
    "ax.set_yticks(np.arange(0, 11))\n",
    "plt.tick_params(axis='both', which='major', labelsize=14)\n",
    "plt.grid(True)\n",
    "\n",
    "plt.plot(x[y == -1, 0], x[y == -1, 1], '_', c='C0', ms=15, mew=5)\n",
    "plt.plot(x[y == 1, 0], x[y == 1, 1], '+', c='C1', ms=15, mew=5)\n",
    "\n",
    "w = np.random.randn(2)\n",
    "xx = np.linspace(0, 20, 10)\n",
    "yy = - w[0] * xx / w[1]\n",
    "mae = abs(np.sign(np.dot(x, w)) - y).sum()\n",
    "h = 0.1\n",
    "x_grid, y_grid = np.meshgrid(np.arange(0, 21, h), np.arange(0, 12, h))\n",
    "z_grid = np.sign(w[0] * x_grid + w[1] * y_grid)\n",
    "\n",
    "contour = ax.contourf(x_grid, y_grid, z_grid, colors=['C0', 'C1'], alpha=0.5)\n",
    "line, = plt.plot(xx, yy, linestyle='--', color='#360C90', linewidth=1.5)\n",
    "mae_label = ax.text(0.05, 0.92, f'step=0\\nMAE={mae}', fontsize=24, transform=ax.transAxes, \n",
    "                verticalalignment='top', bbox={'facecolor': '#D3C8FF', 'alpha': 0.5, \n",
    "                                               'edgecolor': '#AC8AF5', 'pad': 6})\n",
    "\n",
    "lr = 0.0005\n",
    "\n",
    "def animate(i):\n",
    "    global w, contour\n",
    "    \n",
    "    z = np.dot(x, w)\n",
    "    predicted = np.sign(z)\n",
    "    w += lr * x.T @ (y - predicted)\n",
    "    yy = - w[0] * xx / w[1]\n",
    "    z_grid = np.sign(w[0] * x_grid + w[1] * y_grid)\n",
    "    mae = abs(np.sign(np.dot(x, w)) - y).sum()\n",
    "    \n",
    "    line.set_data(xx, yy)\n",
    "    \n",
    "    for tp in contour.collections:\n",
    "        tp.remove()\n",
    "\n",
    "    contour = ax.contourf(x_grid, y_grid, z_grid, colors=['C0', 'C1'], alpha=0.5)\n",
    "    mae_label.set_text(f'step={i + 1}\\nMAE={mae}')\n",
    "\n",
    "    return [line, mae_label] + contour.collections\n",
    "\n",
    "ax.figure.tight_layout(pad=1.5)\n",
    "ani = FuncAnimation(fig, animate, frames=30, blit=True)\n",
    "plt.close()\n",
    "\n",
    "ani.save('assets/j.gif', writer='imagemagick')\n",
    "\n",
    "Image(url='assets/j.gif')"
   ]
  }
 ],
 "metadata": {
  "kernelspec": {
   "display_name": "Python 3",
   "language": "python",
   "name": "python3"
  },
  "language_info": {
   "codemirror_mode": {
    "name": "ipython",
    "version": 3
   },
   "file_extension": ".py",
   "mimetype": "text/x-python",
   "name": "python",
   "nbconvert_exporter": "python",
   "pygments_lexer": "ipython3",
   "version": "3.6.2"
  }
 },
 "nbformat": 4,
 "nbformat_minor": 2
}
